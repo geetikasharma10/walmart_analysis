{
  "nbformat": 4,
  "nbformat_minor": 0,
  "metadata": {
    "colab": {
      "name": "walmart",
      "provenance": []
    },
    "kernelspec": {
      "name": "python3",
      "display_name": "Python 3"
    },
    "language_info": {
      "name": "python"
    }
  },
  "cells": [
    {
      "cell_type": "code",
      "metadata": {
        "id": "BBqeccAyA3VC"
      },
      "source": [
        "import numpy as np\n",
        "import pandas as pd\n",
        "import matplotlib.pyplot as plt\n",
        "import seaborn as sns"
      ],
      "execution_count": 3,
      "outputs": []
    },
    {
      "cell_type": "code",
      "metadata": {
        "colab": {
          "base_uri": "https://localhost:8080/",
          "height": 204
        },
        "id": "SpW9yZMeBTZY",
        "outputId": "23c8a181-ce45-4ec1-aa46-c05421129ece"
      },
      "source": [
        "sale_df = pd.read_csv('/content/drive/MyDrive/Walmart_Store_sales.csv')\n",
        "sale_df.head()"
      ],
      "execution_count": 4,
      "outputs": [
        {
          "output_type": "execute_result",
          "data": {
            "text/html": [
              "<div>\n",
              "<style scoped>\n",
              "    .dataframe tbody tr th:only-of-type {\n",
              "        vertical-align: middle;\n",
              "    }\n",
              "\n",
              "    .dataframe tbody tr th {\n",
              "        vertical-align: top;\n",
              "    }\n",
              "\n",
              "    .dataframe thead th {\n",
              "        text-align: right;\n",
              "    }\n",
              "</style>\n",
              "<table border=\"1\" class=\"dataframe\">\n",
              "  <thead>\n",
              "    <tr style=\"text-align: right;\">\n",
              "      <th></th>\n",
              "      <th>Store</th>\n",
              "      <th>Date</th>\n",
              "      <th>Weekly_Sales</th>\n",
              "      <th>Holiday_Flag</th>\n",
              "      <th>Temperature</th>\n",
              "      <th>Fuel_Price</th>\n",
              "      <th>CPI</th>\n",
              "      <th>Unemployment</th>\n",
              "    </tr>\n",
              "  </thead>\n",
              "  <tbody>\n",
              "    <tr>\n",
              "      <th>0</th>\n",
              "      <td>1</td>\n",
              "      <td>05-02-2010</td>\n",
              "      <td>1643690.90</td>\n",
              "      <td>0</td>\n",
              "      <td>42.31</td>\n",
              "      <td>2.572</td>\n",
              "      <td>211.096358</td>\n",
              "      <td>8.106</td>\n",
              "    </tr>\n",
              "    <tr>\n",
              "      <th>1</th>\n",
              "      <td>1</td>\n",
              "      <td>12-02-2010</td>\n",
              "      <td>1641957.44</td>\n",
              "      <td>1</td>\n",
              "      <td>38.51</td>\n",
              "      <td>2.548</td>\n",
              "      <td>211.242170</td>\n",
              "      <td>8.106</td>\n",
              "    </tr>\n",
              "    <tr>\n",
              "      <th>2</th>\n",
              "      <td>1</td>\n",
              "      <td>19-02-2010</td>\n",
              "      <td>1611968.17</td>\n",
              "      <td>0</td>\n",
              "      <td>39.93</td>\n",
              "      <td>2.514</td>\n",
              "      <td>211.289143</td>\n",
              "      <td>8.106</td>\n",
              "    </tr>\n",
              "    <tr>\n",
              "      <th>3</th>\n",
              "      <td>1</td>\n",
              "      <td>26-02-2010</td>\n",
              "      <td>1409727.59</td>\n",
              "      <td>0</td>\n",
              "      <td>46.63</td>\n",
              "      <td>2.561</td>\n",
              "      <td>211.319643</td>\n",
              "      <td>8.106</td>\n",
              "    </tr>\n",
              "    <tr>\n",
              "      <th>4</th>\n",
              "      <td>1</td>\n",
              "      <td>05-03-2010</td>\n",
              "      <td>1554806.68</td>\n",
              "      <td>0</td>\n",
              "      <td>46.50</td>\n",
              "      <td>2.625</td>\n",
              "      <td>211.350143</td>\n",
              "      <td>8.106</td>\n",
              "    </tr>\n",
              "  </tbody>\n",
              "</table>\n",
              "</div>"
            ],
            "text/plain": [
              "   Store        Date  Weekly_Sales  ...  Fuel_Price         CPI  Unemployment\n",
              "0      1  05-02-2010    1643690.90  ...       2.572  211.096358         8.106\n",
              "1      1  12-02-2010    1641957.44  ...       2.548  211.242170         8.106\n",
              "2      1  19-02-2010    1611968.17  ...       2.514  211.289143         8.106\n",
              "3      1  26-02-2010    1409727.59  ...       2.561  211.319643         8.106\n",
              "4      1  05-03-2010    1554806.68  ...       2.625  211.350143         8.106\n",
              "\n",
              "[5 rows x 8 columns]"
            ]
          },
          "metadata": {
            "tags": []
          },
          "execution_count": 4
        }
      ]
    },
    {
      "cell_type": "code",
      "metadata": {
        "colab": {
          "base_uri": "https://localhost:8080/"
        },
        "id": "BgFEeCPPD7ZC",
        "outputId": "acc3a554-162f-4944-f0e0-dcf85eafb580"
      },
      "source": [
        "sale_df.info()"
      ],
      "execution_count": 5,
      "outputs": [
        {
          "output_type": "stream",
          "text": [
            "<class 'pandas.core.frame.DataFrame'>\n",
            "RangeIndex: 6435 entries, 0 to 6434\n",
            "Data columns (total 8 columns):\n",
            " #   Column        Non-Null Count  Dtype  \n",
            "---  ------        --------------  -----  \n",
            " 0   Store         6435 non-null   int64  \n",
            " 1   Date          6435 non-null   object \n",
            " 2   Weekly_Sales  6435 non-null   float64\n",
            " 3   Holiday_Flag  6435 non-null   int64  \n",
            " 4   Temperature   6435 non-null   float64\n",
            " 5   Fuel_Price    6435 non-null   float64\n",
            " 6   CPI           6435 non-null   float64\n",
            " 7   Unemployment  6435 non-null   float64\n",
            "dtypes: float64(5), int64(2), object(1)\n",
            "memory usage: 402.3+ KB\n"
          ],
          "name": "stdout"
        }
      ]
    },
    {
      "cell_type": "code",
      "metadata": {
        "colab": {
          "base_uri": "https://localhost:8080/"
        },
        "id": "oCAs-t1pOOWk",
        "outputId": "62697d20-d992-46fa-ef13-976f3e9a5e2b"
      },
      "source": [
        "sale_df.shape"
      ],
      "execution_count": 6,
      "outputs": [
        {
          "output_type": "execute_result",
          "data": {
            "text/plain": [
              "(6435, 8)"
            ]
          },
          "metadata": {
            "tags": []
          },
          "execution_count": 6
        }
      ]
    },
    {
      "cell_type": "code",
      "metadata": {
        "id": "tZ34iU5LOUor"
      },
      "source": [
        "a  = sale_df.groupby('Store')['Weekly_Sales'].sum().sort_values()\n",
        "a_df = a.tolist()\n"
      ],
      "execution_count": 7,
      "outputs": []
    },
    {
      "cell_type": "code",
      "metadata": {
        "colab": {
          "base_uri": "https://localhost:8080/",
          "height": 478
        },
        "id": "dhrqgLiJOZ3a",
        "outputId": "81553e64-f183-4d98-e4ec-7c9f2a6e8b2a"
      },
      "source": [
        "clr  = ['lightblue' if ((x < max(a_df)) and (x > min(a_df))) else 'blue' for x in a_df]\n",
        "plt.figure(figsize = (15, 7)) \n",
        "ax = a.plot(kind = 'bar', color = clr)\n",
        "plt.title(\"Total Sales of stores\")\n",
        "plt.xlabel(\"Stores\")\n",
        "plt.ylabel(\"Total Sales\")"
      ],
      "execution_count": 8,
      "outputs": [
        {
          "output_type": "execute_result",
          "data": {
            "text/plain": [
              "Text(0, 0.5, 'Total Sales')"
            ]
          },
          "metadata": {
            "tags": []
          },
          "execution_count": 8
        },
        {
          "output_type": "display_data",
          "data": {
            "image/png": "[encoded data removed]",
            "text/plain": [
              "<Figure size 1080x504 with 1 Axes>"
            ]
          },
          "metadata": {
            "tags": [],
            "needs_background": "light"
          }
        }
      ]
    },
    {
      "cell_type": "code",
      "metadata": {
        "colab": {
          "base_uri": "https://localhost:8080/"
        },
        "id": "vv8aQwb_OeSS",
        "outputId": "e9e33399-2f38-445c-a3c6-a775d444a73f"
      },
      "source": [
        "data_std = pd.DataFrame(sale_df.groupby('Store')['Weekly_Sales'].std().sort_values(ascending=False))\n",
        "print(\"The store has maximum standard deviation is \"+str(data_std.head(1).index[0])+\" with {0:.0f} $\".format(data_std.head(1).Weekly_Sales[data_std.head(1).index[0]]))"
      ],
      "execution_count": 9,
      "outputs": [
        {
          "output_type": "stream",
          "text": [
            "The store has maximum standard deviation is 14 with 317570 $\n"
          ],
          "name": "stdout"
        }
      ]
    },
    {
      "cell_type": "code",
      "metadata": {
        "colab": {
          "base_uri": "https://localhost:8080/",
          "height": 513
        },
        "id": "qeVlaY2vO03s",
        "outputId": "57dad5f7-d312-462f-9e31-3a7d3bc84fe6"
      },
      "source": [
        "plt.figure(figsize=(15,7))\n",
        "sns.distplot(sale_df[sale_df['Store'] == data_std.head(1).index[0]]['Weekly_Sales'])\n",
        "plt.title('The Sales Distribution of Store #'+ str(data_std.head(1).index[0]));"
      ],
      "execution_count": 10,
      "outputs": [
        {
          "output_type": "stream",
          "text": [
            "/usr/local/lib/python3.7/dist-packages/seaborn/distributions.py:2557: FutureWarning: `distplot` is a deprecated function and will be removed in a future version. Please adapt your code to use either `displot` (a figure-level function with similar flexibility) or `histplot` (an axes-level function for histograms).\n",
            "  warnings.warn(msg, FutureWarning)\n"
          ],
          "name": "stderr"
        },
        {
          "output_type": "display_data",
          "data": {
            "image/png": "[encoded data removed]",
            "text/plain": [
              "<Figure size 1080x504 with 1 Axes>"
            ]
          },
          "metadata": {
            "tags": [],
            "needs_background": "light"
          }
        }
      ]
    },
    {
      "cell_type": "code",
      "metadata": {
        "colab": {
          "base_uri": "https://localhost:8080/",
          "height": 419
        },
        "id": "298wIZE8PE0p",
        "outputId": "7c1618ff-7fc6-4f27-bf6a-6aa2a3c76a8f"
      },
      "source": [
        "sale_df['Date'] = pd.to_datetime(sale_df['Date'])\n",
        "sale_df['day'] = pd.DatetimeIndex(sale_df['Date']).day\n",
        "sale_df['month'] = pd.DatetimeIndex(sale_df['Date']).month\n",
        "sale_df['year'] = pd.DatetimeIndex(sale_df['Date']).year\n",
        "sale_df"
      ],
      "execution_count": 11,
      "outputs": [
        {
          "output_type": "execute_result",
          "data": {
            "text/html": [
              "<div>\n",
              "<style scoped>\n",
              "    .dataframe tbody tr th:only-of-type {\n",
              "        vertical-align: middle;\n",
              "    }\n",
              "\n",
              "    .dataframe tbody tr th {\n",
              "        vertical-align: top;\n",
              "    }\n",
              "\n",
              "    .dataframe thead th {\n",
              "        text-align: right;\n",
              "    }\n",
              "</style>\n",
              "<table border=\"1\" class=\"dataframe\">\n",
              "  <thead>\n",
              "    <tr style=\"text-align: right;\">\n",
              "      <th></th>\n",
              "      <th>Store</th>\n",
              "      <th>Date</th>\n",
              "      <th>Weekly_Sales</th>\n",
              "      <th>Holiday_Flag</th>\n",
              "      <th>Temperature</th>\n",
              "      <th>Fuel_Price</th>\n",
              "      <th>CPI</th>\n",
              "      <th>Unemployment</th>\n",
              "      <th>day</th>\n",
              "      <th>month</th>\n",
              "      <th>year</th>\n",
              "    </tr>\n",
              "  </thead>\n",
              "  <tbody>\n",
              "    <tr>\n",
              "      <th>0</th>\n",
              "      <td>1</td>\n",
              "      <td>2010-05-02</td>\n",
              "      <td>1643690.90</td>\n",
              "      <td>0</td>\n",
              "      <td>42.31</td>\n",
              "      <td>2.572</td>\n",
              "      <td>211.096358</td>\n",
              "      <td>8.106</td>\n",
              "      <td>2</td>\n",
              "      <td>5</td>\n",
              "      <td>2010</td>\n",
              "    </tr>\n",
              "    <tr>\n",
              "      <th>1</th>\n",
              "      <td>1</td>\n",
              "      <td>2010-12-02</td>\n",
              "      <td>1641957.44</td>\n",
              "      <td>1</td>\n",
              "      <td>38.51</td>\n",
              "      <td>2.548</td>\n",
              "      <td>211.242170</td>\n",
              "      <td>8.106</td>\n",
              "      <td>2</td>\n",
              "      <td>12</td>\n",
              "      <td>2010</td>\n",
              "    </tr>\n",
              "    <tr>\n",
              "      <th>2</th>\n",
              "      <td>1</td>\n",
              "      <td>2010-02-19</td>\n",
              "      <td>1611968.17</td>\n",
              "      <td>0</td>\n",
              "      <td>39.93</td>\n",
              "      <td>2.514</td>\n",
              "      <td>211.289143</td>\n",
              "      <td>8.106</td>\n",
              "      <td>19</td>\n",
              "      <td>2</td>\n",
              "      <td>2010</td>\n",
              "    </tr>\n",
              "    <tr>\n",
              "      <th>3</th>\n",
              "      <td>1</td>\n",
              "      <td>2010-02-26</td>\n",
              "      <td>1409727.59</td>\n",
              "      <td>0</td>\n",
              "      <td>46.63</td>\n",
              "      <td>2.561</td>\n",
              "      <td>211.319643</td>\n",
              "      <td>8.106</td>\n",
              "      <td>26</td>\n",
              "      <td>2</td>\n",
              "      <td>2010</td>\n",
              "    </tr>\n",
              "    <tr>\n",
              "      <th>4</th>\n",
              "      <td>1</td>\n",
              "      <td>2010-05-03</td>\n",
              "      <td>1554806.68</td>\n",
              "      <td>0</td>\n",
              "      <td>46.50</td>\n",
              "      <td>2.625</td>\n",
              "      <td>211.350143</td>\n",
              "      <td>8.106</td>\n",
              "      <td>3</td>\n",
              "      <td>5</td>\n",
              "      <td>2010</td>\n",
              "    </tr>\n",
              "    <tr>\n",
              "      <th>...</th>\n",
              "      <td>...</td>\n",
              "      <td>...</td>\n",
              "      <td>...</td>\n",
              "      <td>...</td>\n",
              "      <td>...</td>\n",
              "      <td>...</td>\n",
              "      <td>...</td>\n",
              "      <td>...</td>\n",
              "      <td>...</td>\n",
              "      <td>...</td>\n",
              "      <td>...</td>\n",
              "    </tr>\n",
              "    <tr>\n",
              "      <th>6430</th>\n",
              "      <td>45</td>\n",
              "      <td>2012-09-28</td>\n",
              "      <td>713173.95</td>\n",
              "      <td>0</td>\n",
              "      <td>64.88</td>\n",
              "      <td>3.997</td>\n",
              "      <td>192.013558</td>\n",
              "      <td>8.684</td>\n",
              "      <td>28</td>\n",
              "      <td>9</td>\n",
              "      <td>2012</td>\n",
              "    </tr>\n",
              "    <tr>\n",
              "      <th>6431</th>\n",
              "      <td>45</td>\n",
              "      <td>2012-05-10</td>\n",
              "      <td>733455.07</td>\n",
              "      <td>0</td>\n",
              "      <td>64.89</td>\n",
              "      <td>3.985</td>\n",
              "      <td>192.170412</td>\n",
              "      <td>8.667</td>\n",
              "      <td>10</td>\n",
              "      <td>5</td>\n",
              "      <td>2012</td>\n",
              "    </tr>\n",
              "    <tr>\n",
              "      <th>6432</th>\n",
              "      <td>45</td>\n",
              "      <td>2012-12-10</td>\n",
              "      <td>734464.36</td>\n",
              "      <td>0</td>\n",
              "      <td>54.47</td>\n",
              "      <td>4.000</td>\n",
              "      <td>192.327265</td>\n",
              "      <td>8.667</td>\n",
              "      <td>10</td>\n",
              "      <td>12</td>\n",
              "      <td>2012</td>\n",
              "    </tr>\n",
              "    <tr>\n",
              "      <th>6433</th>\n",
              "      <td>45</td>\n",
              "      <td>2012-10-19</td>\n",
              "      <td>718125.53</td>\n",
              "      <td>0</td>\n",
              "      <td>56.47</td>\n",
              "      <td>3.969</td>\n",
              "      <td>192.330854</td>\n",
              "      <td>8.667</td>\n",
              "      <td>19</td>\n",
              "      <td>10</td>\n",
              "      <td>2012</td>\n",
              "    </tr>\n",
              "    <tr>\n",
              "      <th>6434</th>\n",
              "      <td>45</td>\n",
              "      <td>2012-10-26</td>\n",
              "      <td>760281.43</td>\n",
              "      <td>0</td>\n",
              "      <td>58.85</td>\n",
              "      <td>3.882</td>\n",
              "      <td>192.308899</td>\n",
              "      <td>8.667</td>\n",
              "      <td>26</td>\n",
              "      <td>10</td>\n",
              "      <td>2012</td>\n",
              "    </tr>\n",
              "  </tbody>\n",
              "</table>\n",
              "<p>6435 rows × 11 columns</p>\n",
              "</div>"
            ],
            "text/plain": [
              "      Store       Date  Weekly_Sales  ...  day  month  year\n",
              "0         1 2010-05-02    1643690.90  ...    2      5  2010\n",
              "1         1 2010-12-02    1641957.44  ...    2     12  2010\n",
              "2         1 2010-02-19    1611968.17  ...   19      2  2010\n",
              "3         1 2010-02-26    1409727.59  ...   26      2  2010\n",
              "4         1 2010-05-03    1554806.68  ...    3      5  2010\n",
              "...     ...        ...           ...  ...  ...    ...   ...\n",
              "6430     45 2012-09-28     713173.95  ...   28      9  2012\n",
              "6431     45 2012-05-10     733455.07  ...   10      5  2012\n",
              "6432     45 2012-12-10     734464.36  ...   10     12  2012\n",
              "6433     45 2012-10-19     718125.53  ...   19     10  2012\n",
              "6434     45 2012-10-26     760281.43  ...   26     10  2012\n",
              "\n",
              "[6435 rows x 11 columns]"
            ]
          },
          "metadata": {
            "tags": []
          },
          "execution_count": 11
        }
      ]
    },
    {
      "cell_type": "code",
      "metadata": {
        "colab": {
          "base_uri": "https://localhost:8080/",
          "height": 328
        },
        "id": "uFgN_xVyPJCx",
        "outputId": "ec6cd845-0c9a-44e7-a2f6-cbd92ed0a361"
      },
      "source": [
        "plt.figure(figsize=(10,6))\n",
        "z = sale_df.groupby(\"year\")[[\"Weekly_Sales\"]].sum()\n",
        "z.plot(kind='bar',legend=False)\n",
        "plt.xlabel(\"years\")\n",
        "plt.ylabel(\"Weekly Sales\")\n",
        "plt.title(\"Yearly view of sales\");"
      ],
      "execution_count": 12,
      "outputs": [
        {
          "output_type": "display_data",
          "data": {
            "text/plain": [
              "<Figure size 720x432 with 0 Axes>"
            ]
          },
          "metadata": {
            "tags": []
          }
        },
        {
          "output_type": "display_data",
          "data": {
            "image/png": "[encoded data removed]",
            "text/plain": [
              "<Figure size 432x288 with 1 Axes>"
            ]
          },
          "metadata": {
            "tags": [],
            "needs_background": "light"
          }
        }
      ]
    },
    {
      "cell_type": "code",
      "metadata": {
        "id": "3nTkXqLuPNWZ"
      },
      "source": [
        "df_10 = sale_df[sale_df.year == 2010]\n",
        "df_11 = sale_df[sale_df.year == 2011]\n",
        "df_12 = sale_df[sale_df.year == 2012]"
      ],
      "execution_count": 13,
      "outputs": []
    },
    {
      "cell_type": "code",
      "metadata": {
        "colab": {
          "base_uri": "https://localhost:8080/",
          "height": 587
        },
        "id": "NTI46Af-Pz-q",
        "outputId": "f18215f9-8712-405b-f58d-f8caf7a04523"
      },
      "source": [
        "plt.figure(figsize = (9,9))\n",
        "\n",
        "plt.subplot(2,2,1)\n",
        "ax = df_10.groupby('month')['Weekly_Sales'].sum()\n",
        "ax.plot(kind = 'bar', color = 'blue')\n",
        "plt.title('Sales in 2010')\n",
        "plt.xlabel('Months')\n",
        "plt.ylabel('Total sales')\n",
        "\n",
        "plt.subplot(2,2,2)\n",
        "bx = df_11.groupby('month')['Weekly_Sales'].sum()\n",
        "bx.plot(kind = 'bar', color = 'red')\n",
        "plt.title('Sales in 2011')\n",
        "plt.xlabel('Months')\n",
        "plt.ylabel('Total sales')\n",
        "\n",
        "plt.subplot(2,2,3)\n",
        "cx = df_11.groupby('month')['Weekly_Sales'].sum()\n",
        "cx.plot(kind = 'bar', color = 'green')\n",
        "plt.title('Sales in 2012')\n",
        "plt.xlabel('Months')\n",
        "plt.ylabel('Total sales')"
      ],
      "execution_count": 14,
      "outputs": [
        {
          "output_type": "execute_result",
          "data": {
            "text/plain": [
              "Text(0, 0.5, 'Total sales')"
            ]
          },
          "metadata": {
            "tags": []
          },
          "execution_count": 14
        },
        {
          "output_type": "display_data",
          "data": {
            "image/png": "[encoded data removed]",
            "text/plain": [
              "<Figure size 648x648 with 3 Axes>"
            ]
          },
          "metadata": {
            "tags": [],
            "needs_background": "light"
          }
        }
      ]
    },
    {
      "cell_type": "code",
      "metadata": {
        "id": "209s5wzyP3xA"
      },
      "source": [
        "holiday_df = df_10[df_10.Holiday_Flag == 1]\n",
        "holiday_df11 = df_11[df_11.Holiday_Flag == 1]\n",
        "holiday_df12 = df_12[df_12.Holiday_Flag == 1]\n"
      ],
      "execution_count": 15,
      "outputs": []
    },
    {
      "cell_type": "code",
      "metadata": {
        "colab": {
          "base_uri": "https://localhost:8080/",
          "height": 520
        },
        "id": "kXQEmNyrQA1Q",
        "outputId": "43a56be6-a1a5-4baa-dbee-7199d594a87b"
      },
      "source": [
        "plt.figure(figsize = (20,9))\n",
        "\n",
        "plt.subplot(3,1,1)\n",
        "ax = holiday_df.groupby('Store')['Weekly_Sales'].sum()\n",
        "ax.plot(kind = 'bar', color = 'blue')\n",
        "plt.title('Sales in 2010')\n",
        "plt.xlabel('Months')\n",
        "plt.ylabel('Total sales on holidays')\n",
        "\n",
        "plt.subplot(3,1,2)\n",
        "bx = holiday_df11.groupby('Store')['Weekly_Sales'].sum()\n",
        "bx.plot(kind = 'bar', color = 'red')\n",
        "plt.title('Sales in 2011')\n",
        "plt.xlabel('Months')\n",
        "plt.ylabel('Total sales on holidays')\n",
        "\n",
        "\n",
        "plt.subplot(3,1,3)\n",
        "cx = holiday_df12.groupby('Store')['Weekly_Sales'].sum()\n",
        "cx.plot(kind = 'bar', color = 'green')\n",
        "plt.title('Sales in 2012')\n",
        "plt.xlabel('Months')\n",
        "plt.ylabel('Total sales on holidays')"
      ],
      "execution_count": 17,
      "outputs": [
        {
          "output_type": "execute_result",
          "data": {
            "text/plain": [
              "Text(0, 0.5, 'Total sales on holidays')"
            ]
          },
          "metadata": {
            "tags": []
          },
          "execution_count": 17
        },
        {
          "output_type": "display_data",
          "data": {
            "image/png": "[encoded data removed]",
            "text/plain": [
              "<Figure size 1440x648 with 3 Axes>"
            ]
          },
          "metadata": {
            "tags": [],
            "needs_background": "light"
          }
        }
      ]
    },
    {
      "cell_type": "code",
      "metadata": {
        "colab": {
          "base_uri": "https://localhost:8080/",
          "height": 328
        },
        "id": "qfjUr3O3QFo4",
        "outputId": "0b8bc176-7f4c-42f4-a966-aa6838eb3145"
      },
      "source": [
        "ax = sale_df.groupby('year')['Weekly_Sales'].sum()\n",
        "ax.plot(kind = 'bar', color = 'blue')\n",
        "plt.title('Sales in 2010')\n",
        "plt.xlabel('years')\n",
        "plt.ylabel('Total sales on holidays')"
      ],
      "execution_count": 18,
      "outputs": [
        {
          "output_type": "execute_result",
          "data": {
            "text/plain": [
              "Text(0, 0.5, 'Total sales on holidays')"
            ]
          },
          "metadata": {
            "tags": []
          },
          "execution_count": 18
        },
        {
          "output_type": "display_data",
          "data": {
            "image/png": "[encoded data removed]",
            "text/plain": [
              "<Figure size 432x288 with 1 Axes>"
            ]
          },
          "metadata": {
            "tags": [],
            "needs_background": "light"
          }
        }
      ]
    },
    {
      "cell_type": "code",
      "metadata": {
        "id": "z5qycI-tQPVn"
      },
      "source": [
        ""
      ],
      "execution_count": null,
      "outputs": []
    }
  ]
}